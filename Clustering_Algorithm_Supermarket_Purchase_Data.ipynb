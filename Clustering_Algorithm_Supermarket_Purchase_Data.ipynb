{
 "cells": [
  {
   "cell_type": "markdown",
   "metadata": {},
   "source": [
    "# Dataset Description\n",
    "\n",
    "This dataset represents the purchase behavior of customers at Spencers’ supermarket. \n",
    "\n",
    "Attribute Information:\n",
    "\n",
    "1.Cust_id – id of customer<br>\n",
    "2.AVG_Actual_price_12 – MRP<br>\n",
    "3.Purchase_Value – Total amount of purchase customer has made<br>\n",
    "4.No_of_Items – Number of items bought<br> \n",
    "5.Total_Discount- Discount availed by each customer<br>\n",
    "6.MONTH_SINCE_LAST_TRANSACTION – Last month of visit in supermarket<br>\n",
    "\n",
    "__Problem Statement__ Cluster customers into different segments or groups based on the attributes given using clustering algorithms"
   ]
  },
  {
   "cell_type": "code",
   "execution_count": 1,
   "metadata": {},
   "outputs": [],
   "source": [
    "import numpy as np\n",
    "import pandas as pd\n",
    "import seaborn as sns\n",
    "from matplotlib import pyplot as plt\n",
    "%matplotlib inline"
   ]
  },
  {
   "cell_type": "code",
   "execution_count": 2,
   "metadata": {},
   "outputs": [],
   "source": [
    "from IPython.core.interactiveshell import InteractiveShell\n",
    "InteractiveShell.ast_node_interactivity = \"all\""
   ]
  },
  {
   "cell_type": "code",
   "execution_count": 3,
   "metadata": {},
   "outputs": [],
   "source": [
    "custo = pd.read_csv(\"../Data/Supermarket_Purchase.csv\")"
   ]
  },
  {
   "cell_type": "code",
   "execution_count": 4,
   "metadata": {},
   "outputs": [
    {
     "data": {
      "text/html": [
       "<div>\n",
       "<style scoped>\n",
       "    .dataframe tbody tr th:only-of-type {\n",
       "        vertical-align: middle;\n",
       "    }\n",
       "\n",
       "    .dataframe tbody tr th {\n",
       "        vertical-align: top;\n",
       "    }\n",
       "\n",
       "    .dataframe thead th {\n",
       "        text-align: right;\n",
       "    }\n",
       "</style>\n",
       "<table border=\"1\" class=\"dataframe\">\n",
       "  <thead>\n",
       "    <tr style=\"text-align: right;\">\n",
       "      <th></th>\n",
       "      <th>Cust_id</th>\n",
       "      <th>AVG_Actual_price_12</th>\n",
       "      <th>Purchase_Value</th>\n",
       "      <th>No_of_Items</th>\n",
       "      <th>Total_Discount</th>\n",
       "      <th>MONTH_SINCE_LAST_TRANSACTION</th>\n",
       "    </tr>\n",
       "  </thead>\n",
       "  <tbody>\n",
       "    <tr>\n",
       "      <td>0</td>\n",
       "      <td>1</td>\n",
       "      <td>300.000000</td>\n",
       "      <td>1200.00</td>\n",
       "      <td>4</td>\n",
       "      <td>0.00</td>\n",
       "      <td>11</td>\n",
       "    </tr>\n",
       "    <tr>\n",
       "      <td>1</td>\n",
       "      <td>2</td>\n",
       "      <td>2563.282500</td>\n",
       "      <td>41012.52</td>\n",
       "      <td>16</td>\n",
       "      <td>78737.48</td>\n",
       "      <td>2</td>\n",
       "    </tr>\n",
       "    <tr>\n",
       "      <td>2</td>\n",
       "      <td>4</td>\n",
       "      <td>3510.000000</td>\n",
       "      <td>7020.00</td>\n",
       "      <td>2</td>\n",
       "      <td>780.00</td>\n",
       "      <td>4</td>\n",
       "    </tr>\n",
       "    <tr>\n",
       "      <td>3</td>\n",
       "      <td>8</td>\n",
       "      <td>4530.000000</td>\n",
       "      <td>13590.00</td>\n",
       "      <td>3</td>\n",
       "      <td>1510.00</td>\n",
       "      <td>1</td>\n",
       "    </tr>\n",
       "    <tr>\n",
       "      <td>4</td>\n",
       "      <td>9</td>\n",
       "      <td>2428.076923</td>\n",
       "      <td>33455.00</td>\n",
       "      <td>15</td>\n",
       "      <td>17445.00</td>\n",
       "      <td>6</td>\n",
       "    </tr>\n",
       "  </tbody>\n",
       "</table>\n",
       "</div>"
      ],
      "text/plain": [
       "   Cust_id  AVG_Actual_price_12  Purchase_Value  No_of_Items  Total_Discount  \\\n",
       "0        1           300.000000         1200.00            4            0.00   \n",
       "1        2          2563.282500        41012.52           16        78737.48   \n",
       "2        4          3510.000000         7020.00            2          780.00   \n",
       "3        8          4530.000000        13590.00            3         1510.00   \n",
       "4        9          2428.076923        33455.00           15        17445.00   \n",
       "\n",
       "   MONTH_SINCE_LAST_TRANSACTION  \n",
       "0                            11  \n",
       "1                             2  \n",
       "2                             4  \n",
       "3                             1  \n",
       "4                             6  "
      ]
     },
     "execution_count": 4,
     "metadata": {},
     "output_type": "execute_result"
    }
   ],
   "source": [
    "custo.head()"
   ]
  },
  {
   "cell_type": "code",
   "execution_count": 5,
   "metadata": {},
   "outputs": [
    {
     "name": "stdout",
     "output_type": "stream",
     "text": [
      "<class 'pandas.core.frame.DataFrame'>\n",
      "RangeIndex: 702 entries, 0 to 701\n",
      "Data columns (total 6 columns):\n",
      "Cust_id                         702 non-null int64\n",
      "AVG_Actual_price_12             702 non-null float64\n",
      "Purchase_Value                  702 non-null float64\n",
      "No_of_Items                     702 non-null int64\n",
      "Total_Discount                  702 non-null float64\n",
      "MONTH_SINCE_LAST_TRANSACTION    702 non-null int64\n",
      "dtypes: float64(3), int64(3)\n",
      "memory usage: 33.0 KB\n"
     ]
    }
   ],
   "source": [
    "custo.info()"
   ]
  },
  {
   "cell_type": "code",
   "execution_count": 6,
   "metadata": {},
   "outputs": [
    {
     "data": {
      "text/plain": [
       "Cust_id                         0\n",
       "AVG_Actual_price_12             0\n",
       "Purchase_Value                  0\n",
       "No_of_Items                     0\n",
       "Total_Discount                  0\n",
       "MONTH_SINCE_LAST_TRANSACTION    0\n",
       "dtype: int64"
      ]
     },
     "execution_count": 6,
     "metadata": {},
     "output_type": "execute_result"
    }
   ],
   "source": [
    "custo.isnull().sum()"
   ]
  },
  {
   "cell_type": "markdown",
   "metadata": {},
   "source": [
    "There are 702 rows in the dataset<br/>\n",
    "All the data types are numeric. <br/>\n",
    "There is no missing value in dataset"
   ]
  },
  {
   "cell_type": "code",
   "execution_count": 7,
   "metadata": {},
   "outputs": [
    {
     "data": {
      "text/html": [
       "<div>\n",
       "<style scoped>\n",
       "    .dataframe tbody tr th:only-of-type {\n",
       "        vertical-align: middle;\n",
       "    }\n",
       "\n",
       "    .dataframe tbody tr th {\n",
       "        vertical-align: top;\n",
       "    }\n",
       "\n",
       "    .dataframe thead th {\n",
       "        text-align: right;\n",
       "    }\n",
       "</style>\n",
       "<table border=\"1\" class=\"dataframe\">\n",
       "  <thead>\n",
       "    <tr style=\"text-align: right;\">\n",
       "      <th></th>\n",
       "      <th>Cust_id</th>\n",
       "      <th>AVG_Actual_price_12</th>\n",
       "      <th>Purchase_Value</th>\n",
       "      <th>No_of_Items</th>\n",
       "      <th>Total_Discount</th>\n",
       "      <th>MONTH_SINCE_LAST_TRANSACTION</th>\n",
       "    </tr>\n",
       "  </thead>\n",
       "  <tbody>\n",
       "    <tr>\n",
       "      <td>count</td>\n",
       "      <td>702.000000</td>\n",
       "      <td>702.000000</td>\n",
       "      <td>702.000000</td>\n",
       "      <td>702.000000</td>\n",
       "      <td>702.000000</td>\n",
       "      <td>702.000000</td>\n",
       "    </tr>\n",
       "    <tr>\n",
       "      <td>mean</td>\n",
       "      <td>501.414530</td>\n",
       "      <td>2642.877917</td>\n",
       "      <td>19820.633305</td>\n",
       "      <td>10.720798</td>\n",
       "      <td>20806.339088</td>\n",
       "      <td>5.029915</td>\n",
       "    </tr>\n",
       "    <tr>\n",
       "      <td>std</td>\n",
       "      <td>295.756706</td>\n",
       "      <td>1879.138285</td>\n",
       "      <td>34639.752609</td>\n",
       "      <td>20.038311</td>\n",
       "      <td>58427.798572</td>\n",
       "      <td>3.562840</td>\n",
       "    </tr>\n",
       "    <tr>\n",
       "      <td>min</td>\n",
       "      <td>1.000000</td>\n",
       "      <td>22.500000</td>\n",
       "      <td>45.000000</td>\n",
       "      <td>1.000000</td>\n",
       "      <td>-3962.480000</td>\n",
       "      <td>1.000000</td>\n",
       "    </tr>\n",
       "    <tr>\n",
       "      <td>25%</td>\n",
       "      <td>245.750000</td>\n",
       "      <td>1238.750000</td>\n",
       "      <td>4200.000000</td>\n",
       "      <td>2.000000</td>\n",
       "      <td>0.000000</td>\n",
       "      <td>2.000000</td>\n",
       "    </tr>\n",
       "    <tr>\n",
       "      <td>50%</td>\n",
       "      <td>486.500000</td>\n",
       "      <td>2100.000000</td>\n",
       "      <td>8660.000000</td>\n",
       "      <td>4.000000</td>\n",
       "      <td>2599.250000</td>\n",
       "      <td>4.000000</td>\n",
       "    </tr>\n",
       "    <tr>\n",
       "      <td>75%</td>\n",
       "      <td>763.750000</td>\n",
       "      <td>3700.000000</td>\n",
       "      <td>21197.000000</td>\n",
       "      <td>10.000000</td>\n",
       "      <td>17433.750000</td>\n",
       "      <td>8.000000</td>\n",
       "    </tr>\n",
       "    <tr>\n",
       "      <td>max</td>\n",
       "      <td>1006.000000</td>\n",
       "      <td>10000.000000</td>\n",
       "      <td>302721.740000</td>\n",
       "      <td>172.000000</td>\n",
       "      <td>734349.820000</td>\n",
       "      <td>12.000000</td>\n",
       "    </tr>\n",
       "  </tbody>\n",
       "</table>\n",
       "</div>"
      ],
      "text/plain": [
       "           Cust_id  AVG_Actual_price_12  Purchase_Value  No_of_Items  \\\n",
       "count   702.000000           702.000000      702.000000   702.000000   \n",
       "mean    501.414530          2642.877917    19820.633305    10.720798   \n",
       "std     295.756706          1879.138285    34639.752609    20.038311   \n",
       "min       1.000000            22.500000       45.000000     1.000000   \n",
       "25%     245.750000          1238.750000     4200.000000     2.000000   \n",
       "50%     486.500000          2100.000000     8660.000000     4.000000   \n",
       "75%     763.750000          3700.000000    21197.000000    10.000000   \n",
       "max    1006.000000         10000.000000   302721.740000   172.000000   \n",
       "\n",
       "       Total_Discount  MONTH_SINCE_LAST_TRANSACTION  \n",
       "count      702.000000                    702.000000  \n",
       "mean     20806.339088                      5.029915  \n",
       "std      58427.798572                      3.562840  \n",
       "min      -3962.480000                      1.000000  \n",
       "25%          0.000000                      2.000000  \n",
       "50%       2599.250000                      4.000000  \n",
       "75%      17433.750000                      8.000000  \n",
       "max     734349.820000                     12.000000  "
      ]
     },
     "execution_count": 7,
     "metadata": {},
     "output_type": "execute_result"
    }
   ],
   "source": [
    "custo.describe()"
   ]
  },
  {
   "cell_type": "code",
   "execution_count": 8,
   "metadata": {},
   "outputs": [],
   "source": [
    "# Renaming column names\n",
    "custo.rename(columns={\"AVG_Actual_price_12\" : \"MRP\", \"MONTH_SINCE_LAST_TRANSACTION\" : \"Recency\"}, inplace=True)"
   ]
  },
  {
   "cell_type": "code",
   "execution_count": 9,
   "metadata": {},
   "outputs": [],
   "source": [
    "# Rounding off to two decimal places\n",
    "custo[\"MRP\"] = round(custo[\"MRP\"],2)\n",
    "custo[\"Purchase_Value\"] = round(custo[\"Purchase_Value\"],2)\n",
    "custo[\"Total_Discount\"] = round(custo[\"Total_Discount\"],2)"
   ]
  },
  {
   "cell_type": "code",
   "execution_count": 10,
   "metadata": {},
   "outputs": [
    {
     "data": {
      "text/plain": [
       "(18, 6)"
      ]
     },
     "execution_count": 10,
     "metadata": {},
     "output_type": "execute_result"
    }
   ],
   "source": [
    "custo[custo[\"Total_Discount\"] < 0].shape"
   ]
  },
  {
   "cell_type": "markdown",
   "metadata": {},
   "source": [
    "There are 18 rows in dataset whose total discounts are negative. Taking absolute value of this column"
   ]
  },
  {
   "cell_type": "code",
   "execution_count": 11,
   "metadata": {},
   "outputs": [],
   "source": [
    "custo[\"Total_Discount\"] = abs(custo[\"Total_Discount\"])"
   ]
  },
  {
   "cell_type": "code",
   "execution_count": 12,
   "metadata": {},
   "outputs": [
    {
     "data": {
      "text/plain": [
       "(0, 6)"
      ]
     },
     "execution_count": 12,
     "metadata": {},
     "output_type": "execute_result"
    },
    {
     "data": {
      "text/plain": [
       "(0, 6)"
      ]
     },
     "execution_count": 12,
     "metadata": {},
     "output_type": "execute_result"
    },
    {
     "data": {
      "text/plain": [
       "(0, 6)"
      ]
     },
     "execution_count": 12,
     "metadata": {},
     "output_type": "execute_result"
    }
   ],
   "source": [
    "custo[custo[\"Purchase_Value\"] < 0].shape\n",
    "custo[custo[\"No_of_Items\"] < 0].shape\n",
    "custo[custo[\"MRP\"] < 0].shape"
   ]
  },
  {
   "cell_type": "code",
   "execution_count": 13,
   "metadata": {},
   "outputs": [
    {
     "data": {
      "text/plain": [
       "(210, 6)"
      ]
     },
     "execution_count": 13,
     "metadata": {},
     "output_type": "execute_result"
    }
   ],
   "source": [
    "custo[custo[\"Purchase_Value\"] - custo[\"Total_Discount\"] < 0].shape"
   ]
  },
  {
   "cell_type": "markdown",
   "metadata": {},
   "source": [
    "There are many rows in dataset where discount amount greater than purchase value<br/>\n",
    "Deleting these rows from dataset"
   ]
  },
  {
   "cell_type": "code",
   "execution_count": 14,
   "metadata": {},
   "outputs": [],
   "source": [
    "custo.drop(custo[custo[\"Purchase_Value\"] - custo[\"Total_Discount\"] < 0].index, inplace=True)\n",
    "custo.reset_index(drop=True, inplace=True)"
   ]
  },
  {
   "cell_type": "code",
   "execution_count": 15,
   "metadata": {},
   "outputs": [
    {
     "name": "stdout",
     "output_type": "stream",
     "text": [
      "<class 'pandas.core.frame.DataFrame'>\n",
      "RangeIndex: 492 entries, 0 to 491\n",
      "Data columns (total 6 columns):\n",
      "Cust_id           492 non-null int64\n",
      "MRP               492 non-null float64\n",
      "Purchase_Value    492 non-null float64\n",
      "No_of_Items       492 non-null int64\n",
      "Total_Discount    492 non-null float64\n",
      "Recency           492 non-null int64\n",
      "dtypes: float64(3), int64(3)\n",
      "memory usage: 23.2 KB\n"
     ]
    }
   ],
   "source": [
    "custo.info()"
   ]
  },
  {
   "cell_type": "markdown",
   "metadata": {},
   "source": [
    "#### Function to calculate actual purchase value"
   ]
  },
  {
   "cell_type": "code",
   "execution_count": 16,
   "metadata": {},
   "outputs": [],
   "source": [
    "def cal_actual_purchased_val(params):\n",
    "    mrp = params[0]\n",
    "    qty = params[1]\n",
    "    discount = params[2]\n",
    "    act_purchased_val = round((mrp*qty - discount),2)\n",
    "    return act_purchased_val"
   ]
  },
  {
   "cell_type": "code",
   "execution_count": 17,
   "metadata": {},
   "outputs": [],
   "source": [
    "custo[\"Actual_Price\"] = custo[[\"MRP\", \"No_of_Items\", \"Total_Discount\"]].apply(lambda x: cal_actual_purchased_val(x), axis=1)"
   ]
  },
  {
   "cell_type": "code",
   "execution_count": 18,
   "metadata": {},
   "outputs": [
    {
     "data": {
      "text/html": [
       "<div>\n",
       "<style scoped>\n",
       "    .dataframe tbody tr th:only-of-type {\n",
       "        vertical-align: middle;\n",
       "    }\n",
       "\n",
       "    .dataframe tbody tr th {\n",
       "        vertical-align: top;\n",
       "    }\n",
       "\n",
       "    .dataframe thead th {\n",
       "        text-align: right;\n",
       "    }\n",
       "</style>\n",
       "<table border=\"1\" class=\"dataframe\">\n",
       "  <thead>\n",
       "    <tr style=\"text-align: right;\">\n",
       "      <th></th>\n",
       "      <th>Cust_id</th>\n",
       "      <th>MRP</th>\n",
       "      <th>Purchase_Value</th>\n",
       "      <th>No_of_Items</th>\n",
       "      <th>Total_Discount</th>\n",
       "      <th>Recency</th>\n",
       "      <th>Actual_Price</th>\n",
       "    </tr>\n",
       "  </thead>\n",
       "  <tbody>\n",
       "    <tr>\n",
       "      <td>0</td>\n",
       "      <td>1</td>\n",
       "      <td>300.00</td>\n",
       "      <td>1200.0</td>\n",
       "      <td>4</td>\n",
       "      <td>0.0</td>\n",
       "      <td>11</td>\n",
       "      <td>1200.00</td>\n",
       "    </tr>\n",
       "    <tr>\n",
       "      <td>1</td>\n",
       "      <td>4</td>\n",
       "      <td>3510.00</td>\n",
       "      <td>7020.0</td>\n",
       "      <td>2</td>\n",
       "      <td>780.0</td>\n",
       "      <td>4</td>\n",
       "      <td>6240.00</td>\n",
       "    </tr>\n",
       "    <tr>\n",
       "      <td>2</td>\n",
       "      <td>8</td>\n",
       "      <td>4530.00</td>\n",
       "      <td>13590.0</td>\n",
       "      <td>3</td>\n",
       "      <td>1510.0</td>\n",
       "      <td>1</td>\n",
       "      <td>12080.00</td>\n",
       "    </tr>\n",
       "    <tr>\n",
       "      <td>3</td>\n",
       "      <td>9</td>\n",
       "      <td>2428.08</td>\n",
       "      <td>33455.0</td>\n",
       "      <td>15</td>\n",
       "      <td>17445.0</td>\n",
       "      <td>6</td>\n",
       "      <td>18976.20</td>\n",
       "    </tr>\n",
       "    <tr>\n",
       "      <td>4</td>\n",
       "      <td>12</td>\n",
       "      <td>2257.92</td>\n",
       "      <td>37265.0</td>\n",
       "      <td>17</td>\n",
       "      <td>15330.0</td>\n",
       "      <td>3</td>\n",
       "      <td>23054.64</td>\n",
       "    </tr>\n",
       "  </tbody>\n",
       "</table>\n",
       "</div>"
      ],
      "text/plain": [
       "   Cust_id      MRP  Purchase_Value  No_of_Items  Total_Discount  Recency  \\\n",
       "0        1   300.00          1200.0            4             0.0       11   \n",
       "1        4  3510.00          7020.0            2           780.0        4   \n",
       "2        8  4530.00         13590.0            3          1510.0        1   \n",
       "3        9  2428.08         33455.0           15         17445.0        6   \n",
       "4       12  2257.92         37265.0           17         15330.0        3   \n",
       "\n",
       "   Actual_Price  \n",
       "0       1200.00  \n",
       "1       6240.00  \n",
       "2      12080.00  \n",
       "3      18976.20  \n",
       "4      23054.64  "
      ]
     },
     "execution_count": 18,
     "metadata": {},
     "output_type": "execute_result"
    }
   ],
   "source": [
    "custo.head()"
   ]
  },
  {
   "cell_type": "code",
   "execution_count": 19,
   "metadata": {},
   "outputs": [],
   "source": [
    "custo_df = pd.DataFrame(custo)"
   ]
  },
  {
   "cell_type": "code",
   "execution_count": 20,
   "metadata": {},
   "outputs": [],
   "source": [
    "custo_df = custo_df[[\"MRP\", \"No_of_Items\", \"Total_Discount\", \"Actual_Price\", \"Recency\"]]"
   ]
  },
  {
   "cell_type": "code",
   "execution_count": 21,
   "metadata": {},
   "outputs": [
    {
     "data": {
      "text/html": [
       "<div>\n",
       "<style scoped>\n",
       "    .dataframe tbody tr th:only-of-type {\n",
       "        vertical-align: middle;\n",
       "    }\n",
       "\n",
       "    .dataframe tbody tr th {\n",
       "        vertical-align: top;\n",
       "    }\n",
       "\n",
       "    .dataframe thead th {\n",
       "        text-align: right;\n",
       "    }\n",
       "</style>\n",
       "<table border=\"1\" class=\"dataframe\">\n",
       "  <thead>\n",
       "    <tr style=\"text-align: right;\">\n",
       "      <th></th>\n",
       "      <th>MRP</th>\n",
       "      <th>No_of_Items</th>\n",
       "      <th>Total_Discount</th>\n",
       "      <th>Actual_Price</th>\n",
       "      <th>Recency</th>\n",
       "    </tr>\n",
       "  </thead>\n",
       "  <tbody>\n",
       "    <tr>\n",
       "      <td>0</td>\n",
       "      <td>300.00</td>\n",
       "      <td>4</td>\n",
       "      <td>0.0</td>\n",
       "      <td>1200.00</td>\n",
       "      <td>11</td>\n",
       "    </tr>\n",
       "    <tr>\n",
       "      <td>1</td>\n",
       "      <td>3510.00</td>\n",
       "      <td>2</td>\n",
       "      <td>780.0</td>\n",
       "      <td>6240.00</td>\n",
       "      <td>4</td>\n",
       "    </tr>\n",
       "    <tr>\n",
       "      <td>2</td>\n",
       "      <td>4530.00</td>\n",
       "      <td>3</td>\n",
       "      <td>1510.0</td>\n",
       "      <td>12080.00</td>\n",
       "      <td>1</td>\n",
       "    </tr>\n",
       "    <tr>\n",
       "      <td>3</td>\n",
       "      <td>2428.08</td>\n",
       "      <td>15</td>\n",
       "      <td>17445.0</td>\n",
       "      <td>18976.20</td>\n",
       "      <td>6</td>\n",
       "    </tr>\n",
       "    <tr>\n",
       "      <td>4</td>\n",
       "      <td>2257.92</td>\n",
       "      <td>17</td>\n",
       "      <td>15330.0</td>\n",
       "      <td>23054.64</td>\n",
       "      <td>3</td>\n",
       "    </tr>\n",
       "  </tbody>\n",
       "</table>\n",
       "</div>"
      ],
      "text/plain": [
       "       MRP  No_of_Items  Total_Discount  Actual_Price  Recency\n",
       "0   300.00            4             0.0       1200.00       11\n",
       "1  3510.00            2           780.0       6240.00        4\n",
       "2  4530.00            3          1510.0      12080.00        1\n",
       "3  2428.08           15         17445.0      18976.20        6\n",
       "4  2257.92           17         15330.0      23054.64        3"
      ]
     },
     "execution_count": 21,
     "metadata": {},
     "output_type": "execute_result"
    }
   ],
   "source": [
    "custo_df.head()"
   ]
  },
  {
   "cell_type": "markdown",
   "metadata": {},
   "source": [
    "#### Scaling the data"
   ]
  },
  {
   "cell_type": "code",
   "execution_count": 22,
   "metadata": {},
   "outputs": [],
   "source": [
    "from sklearn.preprocessing import MinMaxScaler"
   ]
  },
  {
   "cell_type": "code",
   "execution_count": 23,
   "metadata": {},
   "outputs": [
    {
     "data": {
      "text/plain": [
       "array([[0.02512563, 0.01960784, 0.        , 0.03569385, 0.90909091],\n",
       "       [0.34773869, 0.00653595, 0.00458284, 0.06254086, 0.27272727],\n",
       "       [0.45025126, 0.0130719 , 0.00887192, 0.09364931, 0.        ],\n",
       "       ...,\n",
       "       [0.02985327, 0.00653595, 0.00355999, 0.02977137, 1.        ],\n",
       "       [0.3718593 , 0.        , 0.0220329 , 0.0293017 , 1.        ],\n",
       "       [0.4120603 , 0.        , 0.02438308, 0.0293017 , 1.        ]])"
      ]
     },
     "execution_count": 23,
     "metadata": {},
     "output_type": "execute_result"
    }
   ],
   "source": [
    "mscaler = MinMaxScaler(feature_range=(0, 1))\n",
    "X = mscaler.fit_transform(custo_df)\n",
    "X"
   ]
  },
  {
   "cell_type": "markdown",
   "metadata": {},
   "source": [
    "#### Identify optimal number of clusters using Elbow method "
   ]
  },
  {
   "cell_type": "code",
   "execution_count": 25,
   "metadata": {},
   "outputs": [],
   "source": [
    "from sklearn.cluster import KMeans"
   ]
  },
  {
   "cell_type": "code",
   "execution_count": 26,
   "metadata": {},
   "outputs": [
    {
     "data": {
      "text/plain": [
       "KMeans(algorithm='auto', copy_x=True, init='k-means++', max_iter=300,\n",
       "       n_clusters=1, n_init=10, n_jobs=None, precompute_distances='auto',\n",
       "       random_state=0, tol=0.0001, verbose=0)"
      ]
     },
     "execution_count": 26,
     "metadata": {},
     "output_type": "execute_result"
    },
    {
     "data": {
      "text/plain": [
       "KMeans(algorithm='auto', copy_x=True, init='k-means++', max_iter=300,\n",
       "       n_clusters=2, n_init=10, n_jobs=None, precompute_distances='auto',\n",
       "       random_state=0, tol=0.0001, verbose=0)"
      ]
     },
     "execution_count": 26,
     "metadata": {},
     "output_type": "execute_result"
    },
    {
     "data": {
      "text/plain": [
       "KMeans(algorithm='auto', copy_x=True, init='k-means++', max_iter=300,\n",
       "       n_clusters=3, n_init=10, n_jobs=None, precompute_distances='auto',\n",
       "       random_state=0, tol=0.0001, verbose=0)"
      ]
     },
     "execution_count": 26,
     "metadata": {},
     "output_type": "execute_result"
    },
    {
     "data": {
      "text/plain": [
       "KMeans(algorithm='auto', copy_x=True, init='k-means++', max_iter=300,\n",
       "       n_clusters=4, n_init=10, n_jobs=None, precompute_distances='auto',\n",
       "       random_state=0, tol=0.0001, verbose=0)"
      ]
     },
     "execution_count": 26,
     "metadata": {},
     "output_type": "execute_result"
    },
    {
     "data": {
      "text/plain": [
       "KMeans(algorithm='auto', copy_x=True, init='k-means++', max_iter=300,\n",
       "       n_clusters=5, n_init=10, n_jobs=None, precompute_distances='auto',\n",
       "       random_state=0, tol=0.0001, verbose=0)"
      ]
     },
     "execution_count": 26,
     "metadata": {},
     "output_type": "execute_result"
    },
    {
     "data": {
      "text/plain": [
       "KMeans(algorithm='auto', copy_x=True, init='k-means++', max_iter=300,\n",
       "       n_clusters=6, n_init=10, n_jobs=None, precompute_distances='auto',\n",
       "       random_state=0, tol=0.0001, verbose=0)"
      ]
     },
     "execution_count": 26,
     "metadata": {},
     "output_type": "execute_result"
    },
    {
     "data": {
      "text/plain": [
       "KMeans(algorithm='auto', copy_x=True, init='k-means++', max_iter=300,\n",
       "       n_clusters=7, n_init=10, n_jobs=None, precompute_distances='auto',\n",
       "       random_state=0, tol=0.0001, verbose=0)"
      ]
     },
     "execution_count": 26,
     "metadata": {},
     "output_type": "execute_result"
    },
    {
     "data": {
      "text/plain": [
       "KMeans(algorithm='auto', copy_x=True, init='k-means++', max_iter=300,\n",
       "       n_clusters=8, n_init=10, n_jobs=None, precompute_distances='auto',\n",
       "       random_state=0, tol=0.0001, verbose=0)"
      ]
     },
     "execution_count": 26,
     "metadata": {},
     "output_type": "execute_result"
    },
    {
     "data": {
      "text/plain": [
       "KMeans(algorithm='auto', copy_x=True, init='k-means++', max_iter=300,\n",
       "       n_clusters=9, n_init=10, n_jobs=None, precompute_distances='auto',\n",
       "       random_state=0, tol=0.0001, verbose=0)"
      ]
     },
     "execution_count": 26,
     "metadata": {},
     "output_type": "execute_result"
    },
    {
     "data": {
      "text/plain": [
       "KMeans(algorithm='auto', copy_x=True, init='k-means++', max_iter=300,\n",
       "       n_clusters=9, n_init=10, n_jobs=None, precompute_distances='auto',\n",
       "       random_state=0, tol=0.0001, verbose=0)"
      ]
     },
     "execution_count": 26,
     "metadata": {},
     "output_type": "execute_result"
    },
    {
     "data": {
      "text/plain": [
       "[86.09810916708525,\n",
       " 45.363341071542905,\n",
       " 36.30311884140138,\n",
       " 29.852382069139352,\n",
       " 24.384419754421668,\n",
       " 21.22736900077784,\n",
       " 18.80434242438664,\n",
       " 16.724648868814175,\n",
       " 14.898428975199504]"
      ]
     },
     "execution_count": 26,
     "metadata": {},
     "output_type": "execute_result"
    }
   ],
   "source": [
    "ssw=[]\n",
    "cluster_range=range(1,10)\n",
    "for i in cluster_range:\n",
    "    clusters = KMeans(n_clusters=i, random_state=0)\n",
    "    clusters.fit(X)\n",
    "    ssw.append(clusters.inertia_)\n",
    "\n",
    "clusters\n",
    "ssw"
   ]
  },
  {
   "cell_type": "code",
   "execution_count": 27,
   "metadata": {},
   "outputs": [
    {
     "name": "stdout",
     "output_type": "stream",
     "text": [
      "   no. of clusters        SSW\n",
      "0                1  86.098109\n",
      "1                2  45.363341\n",
      "2                3  36.303119\n",
      "3                4  29.852382\n",
      "4                5  24.384420\n",
      "5                6  21.227369\n",
      "6                7  18.804342\n",
      "7                8  16.724649\n",
      "8                9  14.898429\n"
     ]
    }
   ],
   "source": [
    "ssw_df=pd.DataFrame({\"no. of clusters\":cluster_range,\"SSW\":ssw})\n",
    "print(ssw_df)"
   ]
  },
  {
   "cell_type": "code",
   "execution_count": 28,
   "metadata": {},
   "outputs": [
    {
     "data": {
      "text/plain": [
       "<Figure size 864x504 with 0 Axes>"
      ]
     },
     "execution_count": 28,
     "metadata": {},
     "output_type": "execute_result"
    },
    {
     "data": {
      "text/plain": [
       "[<matplotlib.lines.Line2D at 0xe92984108>]"
      ]
     },
     "execution_count": 28,
     "metadata": {},
     "output_type": "execute_result"
    },
    {
     "data": {
      "text/plain": [
       "Text(0.5, 0, 'Number of clusters')"
      ]
     },
     "execution_count": 28,
     "metadata": {},
     "output_type": "execute_result"
    },
    {
     "data": {
      "text/plain": [
       "Text(0, 0.5, 'Sum Squared Within')"
      ]
     },
     "execution_count": 28,
     "metadata": {},
     "output_type": "execute_result"
    },
    {
     "data": {
      "text/plain": [
       "Text(0.5, 1.0, 'Elbow method to find optimal number of clusters')"
      ]
     },
     "execution_count": 28,
     "metadata": {},
     "output_type": "execute_result"
    },
    {
     "data": {
      "image/png": "[encoded data removed]",
      "text/plain": [
       "<Figure size 864x504 with 1 Axes>"
      ]
     },
     "metadata": {
      "needs_background": "light"
     },
     "output_type": "display_data"
    }
   ],
   "source": [
    "plt.figure(figsize=(12,7))\n",
    "plt.plot(cluster_range, ssw, marker = \"D\",color=\"red\")\n",
    "plt.xlabel(\"Number of clusters\")\n",
    "plt.ylabel(\"Sum Squared Within\")\n",
    "plt.title(\"Elbow method to find optimal number of clusters\")\n",
    "plt.show()"
   ]
  },
  {
   "cell_type": "markdown",
   "metadata": {},
   "source": [
    "##### Number of cluster is 4. After 4th cluster, there is no significant change in ssw"
   ]
  },
  {
   "cell_type": "markdown",
   "metadata": {},
   "source": [
    "#### Building K Means Model"
   ]
  },
  {
   "cell_type": "code",
   "execution_count": 29,
   "metadata": {},
   "outputs": [
    {
     "data": {
      "text/plain": [
       "KMeans(algorithm='auto', copy_x=True, init='k-means++', max_iter=300,\n",
       "       n_clusters=4, n_init=10, n_jobs=None, precompute_distances='auto',\n",
       "       random_state=0, tol=0.0001, verbose=0)"
      ]
     },
     "execution_count": 29,
     "metadata": {},
     "output_type": "execute_result"
    }
   ],
   "source": [
    "kmeans=KMeans(n_clusters=4, random_state=0)\n",
    "km = kmeans.fit(X)\n",
    "km"
   ]
  },
  {
   "cell_type": "markdown",
   "metadata": {},
   "source": [
    "#### K Cluster Centers (Centroids)"
   ]
  },
  {
   "cell_type": "code",
   "execution_count": 30,
   "metadata": {},
   "outputs": [
    {
     "data": {
      "text/plain": [
       "array([[0.26638444, 0.02274716, 0.0242031 , 0.06674369, 0.49677881],\n",
       "       [0.26094564, 0.01253223, 0.00900183, 0.06199794, 0.88573812],\n",
       "       [0.20974648, 0.08410733, 0.07845505, 0.12415051, 0.10944976],\n",
       "       [0.577217  , 0.01797386, 0.01068773, 0.12497113, 0.16520979]])"
      ]
     },
     "execution_count": 30,
     "metadata": {},
     "output_type": "execute_result"
    }
   ],
   "source": [
    "km.cluster_centers_"
   ]
  },
  {
   "cell_type": "code",
   "execution_count": null,
   "metadata": {},
   "outputs": [],
   "source": []
  },
  {
   "cell_type": "code",
   "execution_count": 31,
   "metadata": {},
   "outputs": [],
   "source": [
    "# Doing Inverse transformation on centroids\n",
    "centroid_df=pd.DataFrame(mscaler.inverse_transform(km.cluster_centers_),columns=custo_df.columns)"
   ]
  },
  {
   "cell_type": "code",
   "execution_count": 32,
   "metadata": {},
   "outputs": [
    {
     "data": {
      "text/html": [
       "<div>\n",
       "<style scoped>\n",
       "    .dataframe tbody tr th:only-of-type {\n",
       "        vertical-align: middle;\n",
       "    }\n",
       "\n",
       "    .dataframe tbody tr th {\n",
       "        vertical-align: top;\n",
       "    }\n",
       "\n",
       "    .dataframe thead th {\n",
       "        text-align: right;\n",
       "    }\n",
       "</style>\n",
       "<table border=\"1\" class=\"dataframe\">\n",
       "  <thead>\n",
       "    <tr style=\"text-align: right;\">\n",
       "      <th></th>\n",
       "      <th>MRP</th>\n",
       "      <th>No_of_Items</th>\n",
       "      <th>Total_Discount</th>\n",
       "      <th>Actual_Price</th>\n",
       "      <th>Recency</th>\n",
       "    </tr>\n",
       "  </thead>\n",
       "  <tbody>\n",
       "    <tr>\n",
       "      <td>0</td>\n",
       "      <td>2700.525197</td>\n",
       "      <td>4.480315</td>\n",
       "      <td>4119.366929</td>\n",
       "      <td>7028.998346</td>\n",
       "      <td>6.464567</td>\n",
       "    </tr>\n",
       "    <tr>\n",
       "      <td>1</td>\n",
       "      <td>2646.409083</td>\n",
       "      <td>2.917431</td>\n",
       "      <td>1532.111651</td>\n",
       "      <td>6138.076697</td>\n",
       "      <td>10.743119</td>\n",
       "    </tr>\n",
       "    <tr>\n",
       "      <td>2</td>\n",
       "      <td>2136.977500</td>\n",
       "      <td>13.868421</td>\n",
       "      <td>13353.049342</td>\n",
       "      <td>17806.002566</td>\n",
       "      <td>2.203947</td>\n",
       "    </tr>\n",
       "    <tr>\n",
       "      <td>3</td>\n",
       "      <td>5793.309135</td>\n",
       "      <td>3.750000</td>\n",
       "      <td>1819.051635</td>\n",
       "      <td>17960.058654</td>\n",
       "      <td>2.817308</td>\n",
       "    </tr>\n",
       "  </tbody>\n",
       "</table>\n",
       "</div>"
      ],
      "text/plain": [
       "           MRP  No_of_Items  Total_Discount  Actual_Price    Recency\n",
       "0  2700.525197     4.480315     4119.366929   7028.998346   6.464567\n",
       "1  2646.409083     2.917431     1532.111651   6138.076697  10.743119\n",
       "2  2136.977500    13.868421    13353.049342  17806.002566   2.203947\n",
       "3  5793.309135     3.750000     1819.051635  17960.058654   2.817308"
      ]
     },
     "execution_count": 32,
     "metadata": {},
     "output_type": "execute_result"
    }
   ],
   "source": [
    "centroid_df"
   ]
  },
  {
   "cell_type": "markdown",
   "metadata": {},
   "source": [
    "First row indicates centroid coordinates of all columns for Cluster 1.<br/>\n",
    "Second row indicates centroid coordinates of all columns for Cluster 2.<br/>\n",
    "Similarly, third row for Cluster 3 and so on..."
   ]
  },
  {
   "cell_type": "code",
   "execution_count": 33,
   "metadata": {},
   "outputs": [
    {
     "data": {
      "text/plain": [
       "array([1, 0, 3, 0, 2, 1, 0, 3, 3, 2, 2, 0, 2, 0, 2, 1, 2, 2, 0, 1, 1, 3,\n",
       "       3, 2, 2, 1, 0, 0, 0, 1, 2, 3, 1, 2, 2, 3, 3, 3, 3, 3, 3, 0, 0, 1,\n",
       "       2, 1, 2, 2, 2, 3, 2, 1, 2, 3, 0, 0, 0, 2, 1, 0, 2, 2, 1, 2, 0, 3,\n",
       "       2, 1, 0, 0, 2, 3, 2, 1, 3, 1, 2, 0, 1, 2, 2, 1, 2, 3, 2, 0, 0, 2,\n",
       "       2, 0, 3, 2, 0, 3, 1, 2, 3, 1, 3, 0, 0, 0, 2, 0, 2, 1, 0, 0, 1, 3,\n",
       "       1, 1, 2, 0, 3, 2, 1, 3, 3, 2, 2, 0, 2, 1, 0, 3, 0, 2, 3, 1, 3, 0,\n",
       "       3, 0, 1, 1, 3, 0, 1, 2, 2, 2, 3, 0, 1, 2, 3, 2, 1, 2, 1, 3, 2, 0,\n",
       "       2, 0, 2, 2, 1, 0, 3, 0, 3, 3, 3, 0, 0, 2, 1, 1, 2, 0, 3, 2, 1, 3,\n",
       "       0, 0, 1, 1, 2, 3, 2, 0, 0, 1, 2, 1, 1, 0, 0, 2, 0, 0, 2, 1, 0, 3,\n",
       "       0, 2, 1, 0, 2, 0, 2, 0, 3, 2, 0, 1, 1, 3, 1, 1, 0, 2, 1, 2, 0, 2,\n",
       "       2, 2, 1, 0, 3, 3, 1, 2, 0, 1, 3, 0, 2, 2, 2, 2, 0, 3, 2, 1, 0, 2,\n",
       "       0, 3, 2, 2, 2, 3, 3, 3, 0, 2, 2, 2, 0, 1, 0, 0, 3, 3, 0, 2, 2, 2,\n",
       "       0, 1, 2, 0, 2, 3, 0, 2, 2, 3, 3, 0, 0, 2, 1, 1, 0, 3, 0, 2, 2, 1,\n",
       "       2, 3, 0, 0, 2, 0, 0, 3, 0, 2, 2, 3, 0, 0, 0, 1, 1, 1, 3, 1, 0, 2,\n",
       "       2, 2, 2, 1, 0, 3, 2, 2, 2, 3, 1, 3, 0, 1, 3, 2, 2, 3, 2, 0, 1, 1,\n",
       "       1, 0, 1, 1, 3, 0, 1, 0, 3, 0, 0, 0, 2, 1, 0, 2, 0, 1, 3, 1, 3, 2,\n",
       "       3, 1, 2, 3, 0, 1, 1, 3, 1, 1, 2, 3, 2, 3, 3, 3, 3, 2, 3, 2, 2, 3,\n",
       "       0, 3, 2, 3, 0, 3, 2, 2, 0, 0, 1, 1, 0, 2, 0, 1, 1, 0, 1, 3, 3, 1,\n",
       "       1, 2, 1, 1, 1, 2, 1, 2, 3, 1, 0, 0, 0, 0, 1, 3, 3, 0, 0, 2, 3, 0,\n",
       "       1, 1, 2, 3, 1, 2, 2, 3, 2, 2, 0, 2, 0, 3, 3, 0, 2, 3, 1, 1, 1, 0,\n",
       "       3, 2, 3, 2, 1, 2, 0, 2, 1, 0, 1, 1, 1, 2, 2, 2, 3, 2, 2, 2, 2, 0,\n",
       "       2, 2, 3, 0, 2, 3, 0, 3, 2, 0, 0, 0, 1, 2, 2, 2, 1, 0, 1, 3, 3, 3,\n",
       "       2, 2, 2, 2, 0, 1, 1, 1])"
      ]
     },
     "execution_count": 33,
     "metadata": {},
     "output_type": "execute_result"
    }
   ],
   "source": [
    "# Cluster vectors - Showing observation belonging which clusters \n",
    "cluster_vectors = km.labels_\n",
    "cluster_vectors"
   ]
  },
  {
   "cell_type": "code",
   "execution_count": 34,
   "metadata": {},
   "outputs": [],
   "source": [
    "custo_df[\"clusters\"] = cluster_vectors"
   ]
  },
  {
   "cell_type": "code",
   "execution_count": 35,
   "metadata": {},
   "outputs": [
    {
     "data": {
      "text/html": [
       "<div>\n",
       "<style scoped>\n",
       "    .dataframe tbody tr th:only-of-type {\n",
       "        vertical-align: middle;\n",
       "    }\n",
       "\n",
       "    .dataframe tbody tr th {\n",
       "        vertical-align: top;\n",
       "    }\n",
       "\n",
       "    .dataframe thead th {\n",
       "        text-align: right;\n",
       "    }\n",
       "</style>\n",
       "<table border=\"1\" class=\"dataframe\">\n",
       "  <thead>\n",
       "    <tr style=\"text-align: right;\">\n",
       "      <th></th>\n",
       "      <th>MRP</th>\n",
       "      <th>No_of_Items</th>\n",
       "      <th>Total_Discount</th>\n",
       "      <th>Actual_Price</th>\n",
       "      <th>Recency</th>\n",
       "      <th>clusters</th>\n",
       "    </tr>\n",
       "  </thead>\n",
       "  <tbody>\n",
       "    <tr>\n",
       "      <td>0</td>\n",
       "      <td>300.00</td>\n",
       "      <td>4</td>\n",
       "      <td>0.0</td>\n",
       "      <td>1200.00</td>\n",
       "      <td>11</td>\n",
       "      <td>1</td>\n",
       "    </tr>\n",
       "    <tr>\n",
       "      <td>1</td>\n",
       "      <td>3510.00</td>\n",
       "      <td>2</td>\n",
       "      <td>780.0</td>\n",
       "      <td>6240.00</td>\n",
       "      <td>4</td>\n",
       "      <td>0</td>\n",
       "    </tr>\n",
       "    <tr>\n",
       "      <td>2</td>\n",
       "      <td>4530.00</td>\n",
       "      <td>3</td>\n",
       "      <td>1510.0</td>\n",
       "      <td>12080.00</td>\n",
       "      <td>1</td>\n",
       "      <td>3</td>\n",
       "    </tr>\n",
       "    <tr>\n",
       "      <td>3</td>\n",
       "      <td>2428.08</td>\n",
       "      <td>15</td>\n",
       "      <td>17445.0</td>\n",
       "      <td>18976.20</td>\n",
       "      <td>6</td>\n",
       "      <td>0</td>\n",
       "    </tr>\n",
       "    <tr>\n",
       "      <td>4</td>\n",
       "      <td>2257.92</td>\n",
       "      <td>17</td>\n",
       "      <td>15330.0</td>\n",
       "      <td>23054.64</td>\n",
       "      <td>3</td>\n",
       "      <td>2</td>\n",
       "    </tr>\n",
       "  </tbody>\n",
       "</table>\n",
       "</div>"
      ],
      "text/plain": [
       "       MRP  No_of_Items  Total_Discount  Actual_Price  Recency  clusters\n",
       "0   300.00            4             0.0       1200.00       11         1\n",
       "1  3510.00            2           780.0       6240.00        4         0\n",
       "2  4530.00            3          1510.0      12080.00        1         3\n",
       "3  2428.08           15         17445.0      18976.20        6         0\n",
       "4  2257.92           17         15330.0      23054.64        3         2"
      ]
     },
     "execution_count": 35,
     "metadata": {},
     "output_type": "execute_result"
    }
   ],
   "source": [
    "custo_df.head()"
   ]
  },
  {
   "cell_type": "code",
   "execution_count": 36,
   "metadata": {},
   "outputs": [
    {
     "data": {
      "text/plain": [
       "2    152\n",
       "0    127\n",
       "1    109\n",
       "3    104\n",
       "Name: clusters, dtype: int64"
      ]
     },
     "execution_count": 36,
     "metadata": {},
     "output_type": "execute_result"
    }
   ],
   "source": [
    "custo_df[\"clusters\"].value_counts()"
   ]
  },
  {
   "cell_type": "code",
   "execution_count": null,
   "metadata": {},
   "outputs": [],
   "source": []
  },
  {
   "cell_type": "code",
   "execution_count": 37,
   "metadata": {},
   "outputs": [],
   "source": [
    "# Fit the model\n",
    "y_kmeans = kmeans.fit_predict(X)"
   ]
  },
  {
   "cell_type": "markdown",
   "metadata": {},
   "source": [
    "### Visualize the Cluster"
   ]
  },
  {
   "cell_type": "code",
   "execution_count": 40,
   "metadata": {},
   "outputs": [
    {
     "data": {
      "text/plain": [
       "<matplotlib.collections.PathCollection at 0xe92b2c308>"
      ]
     },
     "execution_count": 40,
     "metadata": {},
     "output_type": "execute_result"
    },
    {
     "data": {
      "text/plain": [
       "<matplotlib.collections.PathCollection at 0xe92b2c208>"
      ]
     },
     "execution_count": 40,
     "metadata": {},
     "output_type": "execute_result"
    },
    {
     "data": {
      "text/plain": [
       "<matplotlib.collections.PathCollection at 0xe92abab48>"
      ]
     },
     "execution_count": 40,
     "metadata": {},
     "output_type": "execute_result"
    },
    {
     "data": {
      "text/plain": [
       "<matplotlib.collections.PathCollection at 0xe92b3ea88>"
      ]
     },
     "execution_count": 40,
     "metadata": {},
     "output_type": "execute_result"
    },
    {
     "data": {
      "text/plain": [
       "<matplotlib.collections.PathCollection at 0xe92add148>"
      ]
     },
     "execution_count": 40,
     "metadata": {},
     "output_type": "execute_result"
    },
    {
     "data": {
      "text/plain": [
       "Text(0.5, 1.0, 'Cluster of MRP for No_of_Items')"
      ]
     },
     "execution_count": 40,
     "metadata": {},
     "output_type": "execute_result"
    },
    {
     "data": {
      "text/plain": [
       "Text(0.5, 0, 'MRP')"
      ]
     },
     "execution_count": 40,
     "metadata": {},
     "output_type": "execute_result"
    },
    {
     "data": {
      "text/plain": [
       "Text(0, 0.5, 'Number of Items')"
      ]
     },
     "execution_count": 40,
     "metadata": {},
     "output_type": "execute_result"
    },
    {
     "data": {
      "text/plain": [
       "<matplotlib.legend.Legend at 0xe92a63308>"
      ]
     },
     "execution_count": 40,
     "metadata": {},
     "output_type": "execute_result"
    },
    {
     "data": {
      "image/png": "[encoded data removed]",
      "text/plain": [
       "<Figure size 432x288 with 1 Axes>"
      ]
     },
     "metadata": {
      "needs_background": "light"
     },
     "output_type": "display_data"
    }
   ],
   "source": [
    "plt.scatter(X[y_kmeans == 0, 0], X[y_kmeans == 0, 1], s=100, c='orange', label='Cluster 1')\n",
    "plt.scatter(X[y_kmeans == 1, 0], X[y_kmeans == 1, 1], s=100, c='green', label='Cluster 2')\n",
    "plt.scatter(X[y_kmeans == 2, 0], X[y_kmeans == 2, 1], s=100, c='cyan', label='Cluster 3')\n",
    "plt.scatter(X[y_kmeans == 3, 0], X[y_kmeans == 3, 1], s=100, c='pink', label='Cluster 4')\n",
    "\n",
    "plt.scatter(kmeans.cluster_centers_[:,0], kmeans.cluster_centers_[:,1], s=300, c='purple', label='Centroids', marker=\"*\")\n",
    "\n",
    "plt.title('Cluster of MRP for No_of_Items')\n",
    "plt.xlabel('MRP')\n",
    "plt.ylabel('Number of Items')\n",
    "plt.legend()\n",
    "plt.show()"
   ]
  },
  {
   "cell_type": "code",
   "execution_count": 41,
   "metadata": {},
   "outputs": [
    {
     "data": {
      "text/plain": [
       "<matplotlib.collections.PathCollection at 0xe92babcc8>"
      ]
     },
     "execution_count": 41,
     "metadata": {},
     "output_type": "execute_result"
    },
    {
     "data": {
      "text/plain": [
       "<matplotlib.collections.PathCollection at 0xe92d37c88>"
      ]
     },
     "execution_count": 41,
     "metadata": {},
     "output_type": "execute_result"
    },
    {
     "data": {
      "text/plain": [
       "<matplotlib.collections.PathCollection at 0xe92d37c08>"
      ]
     },
     "execution_count": 41,
     "metadata": {},
     "output_type": "execute_result"
    },
    {
     "data": {
      "text/plain": [
       "<matplotlib.collections.PathCollection at 0xe92d37e88>"
      ]
     },
     "execution_count": 41,
     "metadata": {},
     "output_type": "execute_result"
    },
    {
     "data": {
      "text/plain": [
       "<matplotlib.collections.PathCollection at 0xe92d43b08>"
      ]
     },
     "execution_count": 41,
     "metadata": {},
     "output_type": "execute_result"
    },
    {
     "data": {
      "text/plain": [
       "Text(0.5, 1.0, 'Cluster of MRP for Total Discount')"
      ]
     },
     "execution_count": 41,
     "metadata": {},
     "output_type": "execute_result"
    },
    {
     "data": {
      "text/plain": [
       "Text(0.5, 0, 'MRP')"
      ]
     },
     "execution_count": 41,
     "metadata": {},
     "output_type": "execute_result"
    },
    {
     "data": {
      "text/plain": [
       "Text(0, 0.5, 'Total Discount')"
      ]
     },
     "execution_count": 41,
     "metadata": {},
     "output_type": "execute_result"
    },
    {
     "data": {
      "text/plain": [
       "<matplotlib.legend.Legend at 0xe92babd08>"
      ]
     },
     "execution_count": 41,
     "metadata": {},
     "output_type": "execute_result"
    },
    {
     "data": {
      "image/png": "[encoded data removed]",
      "text/plain": [
       "<Figure size 432x288 with 1 Axes>"
      ]
     },
     "metadata": {
      "needs_background": "light"
     },
     "output_type": "display_data"
    }
   ],
   "source": [
    "plt.scatter(X[y_kmeans == 0, 0], X[y_kmeans == 0, 2], s=100, c='orange', label='Cluster 1')\n",
    "plt.scatter(X[y_kmeans == 1, 0], X[y_kmeans == 1, 2], s=100, c='green', label='Cluster 2')\n",
    "plt.scatter(X[y_kmeans == 2, 0], X[y_kmeans == 2, 2], s=100, c='cyan', label='Cluster 3')\n",
    "plt.scatter(X[y_kmeans == 3, 0], X[y_kmeans == 3, 2], s=100, c='pink', label='Cluster 4')\n",
    "\n",
    "plt.scatter(kmeans.cluster_centers_[:,0], kmeans.cluster_centers_[:,2], s=300, c='purple', label='Centroids', marker=\"*\")\n",
    "\n",
    "plt.title('Cluster of MRP for Total Discount')\n",
    "plt.xlabel('MRP')\n",
    "plt.ylabel('Total Discount')\n",
    "plt.legend()\n",
    "plt.show()"
   ]
  },
  {
   "cell_type": "code",
   "execution_count": 42,
   "metadata": {},
   "outputs": [
    {
     "data": {
      "text/plain": [
       "<matplotlib.collections.PathCollection at 0xe92db8088>"
      ]
     },
     "execution_count": 42,
     "metadata": {},
     "output_type": "execute_result"
    },
    {
     "data": {
      "text/plain": [
       "<matplotlib.collections.PathCollection at 0xe92db80c8>"
      ]
     },
     "execution_count": 42,
     "metadata": {},
     "output_type": "execute_result"
    },
    {
     "data": {
      "text/plain": [
       "<matplotlib.collections.PathCollection at 0xe92db8fc8>"
      ]
     },
     "execution_count": 42,
     "metadata": {},
     "output_type": "execute_result"
    },
    {
     "data": {
      "text/plain": [
       "<matplotlib.collections.PathCollection at 0xe92dbdfc8>"
      ]
     },
     "execution_count": 42,
     "metadata": {},
     "output_type": "execute_result"
    },
    {
     "data": {
      "text/plain": [
       "<matplotlib.collections.PathCollection at 0xe92a6d108>"
      ]
     },
     "execution_count": 42,
     "metadata": {},
     "output_type": "execute_result"
    },
    {
     "data": {
      "text/plain": [
       "Text(0.5, 1.0, 'Cluster of Total Discount for Actual Price')"
      ]
     },
     "execution_count": 42,
     "metadata": {},
     "output_type": "execute_result"
    },
    {
     "data": {
      "text/plain": [
       "Text(0.5, 0, 'Total Discount')"
      ]
     },
     "execution_count": 42,
     "metadata": {},
     "output_type": "execute_result"
    },
    {
     "data": {
      "text/plain": [
       "Text(0, 0.5, 'Actual Price')"
      ]
     },
     "execution_count": 42,
     "metadata": {},
     "output_type": "execute_result"
    },
    {
     "data": {
      "text/plain": [
       "<matplotlib.legend.Legend at 0xe92da5a08>"
      ]
     },
     "execution_count": 42,
     "metadata": {},
     "output_type": "execute_result"
    },
    {
     "data": {
      "image/png": "[encoded data removed]",
      "text/plain": [
       "<Figure size 432x288 with 1 Axes>"
      ]
     },
     "metadata": {
      "needs_background": "light"
     },
     "output_type": "display_data"
    }
   ],
   "source": [
    "plt.scatter(X[y_kmeans == 0, 2], X[y_kmeans == 0, 3], s=100, c='orange', label='Cluster 1')\n",
    "plt.scatter(X[y_kmeans == 1, 2], X[y_kmeans == 1, 3], s=100, c='green', label='Cluster 2')\n",
    "plt.scatter(X[y_kmeans == 2, 2], X[y_kmeans == 2, 3], s=100, c='cyan', label='Cluster 3')\n",
    "plt.scatter(X[y_kmeans == 3, 2], X[y_kmeans == 3, 3], s=100, c='pink', label='Cluster 4')\n",
    "\n",
    "plt.scatter(kmeans.cluster_centers_[:,2], kmeans.cluster_centers_[:,3], s=300, c='purple', label='Centroids', marker=\"*\")\n",
    "\n",
    "plt.title('Cluster of Total Discount for Actual Price')\n",
    "plt.xlabel('Total Discount')\n",
    "plt.ylabel('Actual Price')\n",
    "plt.legend()\n",
    "plt.show()"
   ]
  },
  {
   "cell_type": "code",
   "execution_count": null,
   "metadata": {},
   "outputs": [],
   "source": []
  },
  {
   "cell_type": "markdown",
   "metadata": {},
   "source": [
    "Data points are scattered in four clusters.<br/>\n",
    "The data points in the bottom right belong to items with higher discount.<br/>\n",
    "The data points in the top left (some are cyan) belong to items with higher purchase values.<br/>\n",
    "The data points in bottom left region (combination of mostly cyan and pink and less yellow data points) are the ones with average purchase values and average discounts"
   ]
  }
 ],
 "metadata": {
  "kernelspec": {
   "display_name": "Python 3",
   "language": "python",
   "name": "python3"
  },
  "language_info": {
   "codemirror_mode": {
    "name": "ipython",
    "version": 3
   },
   "file_extension": ".py",
   "mimetype": "text/x-python",
   "name": "python",
   "nbconvert_exporter": "python",
   "pygments_lexer": "ipython3",
   "version": "3.7.4"
  }
 },
 "nbformat": 4,
 "nbformat_minor": 2
}
